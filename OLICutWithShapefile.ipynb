{
 "cells": [
  {
   "cell_type": "code",
   "execution_count": 9,
   "metadata": {},
   "outputs": [],
   "source": [
    "import geopandas as gpd\n",
    "import rasterio\n",
    "from rasterio.mask import mask\n",
    "from shapely.geometry import mapping\n",
    "import os\n",
    "\n",
    "def recortar_e_salvar_OLI(caminhos_imagens, caminho_shapefile, diretorio_destino_pai):\n",
    "    # Abrir o shapefile com geopandas\n",
    "    gdf = gpd.read_file(caminho_shapefile)\n",
    "\n",
    "    # Reprojetar a geometria do shapefile para o CRS da imagem raster (EPSG:32624)\n",
    "    gdf = gdf.to_crs(epsg=32624)\n",
    "\n",
    "    for caminho_imagem in caminhos_imagens:\n",
    "        # Abrir a imagem TIFF com rasterio\n",
    "        with rasterio.open(caminho_imagem) as src:\n",
    "            # Recuperar a geometria da máscara do shapefile\n",
    "            geometria_mascara = gdf.geometry.values[0]\n",
    "            # Converta a geometria para um formato que o rasterio entenda\n",
    "            geometria_mascara = [mapping(geometria_mascara)]\n",
    "\n",
    "            # Recortar a imagem usando a geometria do shapefile como máscara\n",
    "            imagem_recortada, transformacao_recortada = mask(src, geometria_mascara, crop=True)\n",
    "\n",
    "            # Atualizar a transformação da imagem recortada\n",
    "            profile = src.profile\n",
    "            profile['transform'] = transformacao_recortada\n",
    "            profile['height'] = imagem_recortada.shape[1]  # Update height\n",
    "            profile['width'] = imagem_recortada.shape[2]   # Update width\n",
    "\n",
    "        # Obter o nome da banda a partir do caminho da imagem\n",
    "        nome_banda = os.path.basename(caminho_imagem).split('_')[-1][1]\n",
    "\n",
    "        # Caminho para o diretório de destino específico para cada banda\n",
    "        diretorio_destino = os.path.join(diretorio_destino_pai, f'LL14CUTB{nome_banda}')\n",
    "\n",
    "        # Criar o diretório se não existir\n",
    "        os.makedirs(diretorio_destino, exist_ok=True)\n",
    "\n",
    "        # Obter o nome do arquivo da imagem original\n",
    "        nome_arquivo = os.path.basename(caminho_imagem)\n",
    "\n",
    "        # Salvar a imagem recortada em um novo arquivo TIFF\n",
    "        caminho_destino = os.path.join(diretorio_destino, f'{nome_arquivo[:-4]}_CUT.tif')\n",
    "        with rasterio.open(caminho_destino, 'w', **profile) as dst:\n",
    "            dst.write(imagem_recortada)\n",
    "\n",
    "        # Exibir mensagem de sucesso\n",
    "        print(f'Imagem recortada salva em: {caminho_destino}')"
   ]
  },
  {
   "cell_type": "code",
   "execution_count": 10,
   "metadata": {},
   "outputs": [
    {
     "name": "stdout",
     "output_type": "stream",
     "text": [
      "Imagem recortada salva em: /home/barcelos/Desktop/L/LL14/LL14CUTB2/LC08_L1TP_215074_20141229_20200910_02_T1_B2_CUT.tif\n",
      "Imagem recortada salva em: /home/barcelos/Desktop/L/LL14/LL14CUTB3/LC08_L1TP_215074_20141229_20200910_02_T1_B3_CUT.tif\n",
      "Imagem recortada salva em: /home/barcelos/Desktop/L/LL14/LL14CUTB4/LC08_L1TP_215074_20141229_20200910_02_T1_B4_CUT.tif\n",
      "Imagem recortada salva em: /home/barcelos/Desktop/L/LL14/LL14CUTB5/LC08_L1TP_215074_20141229_20200910_02_T1_B5_CUT.tif\n"
     ]
    }
   ],
   "source": [
    "# Lista de caminhos para as suas imagens TIFF\n",
    "caminhos_imagens = [\n",
    "    '/home/barcelos/Desktop/L/LL14/LC08_L1TP_215074_20141229_20200910_02_T1_B2.TIF',\n",
    "    '/home/barcelos/Desktop/L/LL14/LC08_L1TP_215074_20141229_20200910_02_T1_B3.TIF',\n",
    "    '/home/barcelos/Desktop/L/LL14/LC08_L1TP_215074_20141229_20200910_02_T1_B4.TIF',\n",
    "    '/home/barcelos/Desktop/L/LL14/LC08_L1TP_215074_20141229_20200910_02_T1_B5.TIF'\n",
    "]\n",
    "\n",
    "caminho_shapefile = '/home/barcelos/Desktop/AOI/AOI2.shp'\n",
    "\n",
    "# Caminho para o diretório de destino pai\n",
    "diretorio_destino_pai = '/home/barcelos/Desktop/L/LL14/'\n",
    "\n",
    "# Chamar a função com os parâmetros\n",
    "recortar_e_salvar_OLI(caminhos_imagens, caminho_shapefile, diretorio_destino_pai)"
   ]
  }
 ],
 "metadata": {
  "kernelspec": {
   "display_name": "Python 3",
   "language": "python",
   "name": "python3"
  },
  "language_info": {
   "codemirror_mode": {
    "name": "ipython",
    "version": 3
   },
   "file_extension": ".py",
   "mimetype": "text/x-python",
   "name": "python",
   "nbconvert_exporter": "python",
   "pygments_lexer": "ipython3",
   "version": "3.10.12"
  }
 },
 "nbformat": 4,
 "nbformat_minor": 2
}
