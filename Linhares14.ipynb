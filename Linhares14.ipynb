{
 "cells": [
  {
   "cell_type": "code",
   "execution_count": 2,
   "metadata": {},
   "outputs": [
    {
     "name": "stdout",
     "output_type": "stream",
     "text": [
      "Imagem OLI recortada salva em: /home/barcelos/Desktop/L/LL14/LL14CUTB2/LC08_L1TP_215074_20141229_20200910_02_T1_B2_CUT.tif\n",
      "Imagem OLI recortada salva em: /home/barcelos/Desktop/L/LL14/LL14CUTB3/LC08_L1TP_215074_20141229_20200910_02_T1_B3_CUT.tif\n",
      "Imagem OLI recortada salva em: /home/barcelos/Desktop/L/LL14/LL14CUTB4/LC08_L1TP_215074_20141229_20200910_02_T1_B4_CUT.tif\n",
      "Imagem OLI recortada salva em: /home/barcelos/Desktop/L/LL14/LL14CUTB5/LC08_L1TP_215074_20141229_20200910_02_T1_B5_CUT.tif\n",
      "Imagem MODIS recortada salva em: /home/barcelos/Desktop/L/ML14/ML14CUTB1/2014-11-29-00:00_2014-11-29-23:59_MODIS_B1_CUT.tif\n",
      "Imagem MODIS recortada salva em: /home/barcelos/Desktop/L/ML14/ML14CUTB2/2014-11-29-00:00_2014-11-29-23:59_MODIS_B2_CUT.tif\n",
      "Imagem MODIS recortada salva em: /home/barcelos/Desktop/L/ML14/ML14CUTB3/2014-11-29-00:00_2014-11-29-23:59_MODIS_B3_CUT.tif\n",
      "Imagem MODIS recortada salva em: /home/barcelos/Desktop/L/ML14/ML14CUTB4/2014-11-29-00:00_2014-11-29-23:59_MODIS_B4_CUT.tif\n"
     ]
    }
   ],
   "source": [
    "from functionMODISCutWithShapefile import recortar_e_salvar_MODIS\n",
    "from functionOLICutWithShapefile import recortar_e_salvar_OLI\n",
    "\n",
    "# Lista de caminhos para as suas imagens TIFF\n",
    "caminhos_imagens_OLI = [\n",
    "    '/home/barcelos/Desktop/L/LL14/LC08_L1TP_215074_20141229_20200910_02_T1_B2.TIF',\n",
    "    '/home/barcelos/Desktop/L/LL14/LC08_L1TP_215074_20141229_20200910_02_T1_B3.TIF',\n",
    "    '/home/barcelos/Desktop/L/LL14/LC08_L1TP_215074_20141229_20200910_02_T1_B4.TIF',\n",
    "    '/home/barcelos/Desktop/L/LL14/LC08_L1TP_215074_20141229_20200910_02_T1_B5.TIF'\n",
    "]\n",
    "\n",
    "caminhos_imagens_MODIS = [\n",
    "    '/home/barcelos/Desktop/L/ML14/ML14/2014-11-29-00:00_2014-11-29-23:59_MODIS_B1.TIF',\n",
    "    '/home/barcelos/Desktop/L/ML14/ML14/2014-11-29-00:00_2014-11-29-23:59_MODIS_B2.TIF',\n",
    "    '/home/barcelos/Desktop/L/ML14/ML14/2014-11-29-00:00_2014-11-29-23:59_MODIS_B3.TIF',\n",
    "    '/home/barcelos/Desktop/L/ML14/ML14/2014-11-29-00:00_2014-11-29-23:59_MODIS_B4.TIF'\n",
    "]\n",
    "\n",
    "caminho_shapefile = '/home/barcelos/Desktop/AOI/AOI2.shp'\n",
    "\n",
    "# Caminho para o diretório de destino pai\n",
    "diretorio_destino_pai_OLI = '/home/barcelos/Desktop/L/LL14/'\n",
    "diretorio_destino_pai_MODIS = '/home/barcelos/Desktop/L/ML14/'\n",
    "\n",
    "# Chamar a função com os parâmetros\n",
    "imagens_cortadas_OLI = recortar_e_salvar_OLI(caminhos_imagens_OLI, caminho_shapefile, diretorio_destino_pai_OLI)\n",
    "imagens_cortadas_MODIS = recortar_e_salvar_MODIS(caminhos_imagens_MODIS, caminho_shapefile, diretorio_destino_pai_MODIS)"
   ]
  }
 ],
 "metadata": {
  "kernelspec": {
   "display_name": "Python 3",
   "language": "python",
   "name": "python3"
  },
  "language_info": {
   "codemirror_mode": {
    "name": "ipython",
    "version": 3
   },
   "file_extension": ".py",
   "mimetype": "text/x-python",
   "name": "python",
   "nbconvert_exporter": "python",
   "pygments_lexer": "ipython3",
   "version": "3.10.12"
  }
 },
 "nbformat": 4,
 "nbformat_minor": 2
}
