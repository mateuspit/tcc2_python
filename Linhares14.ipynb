{
 "cells": [
  {
   "cell_type": "code",
   "execution_count": null,
   "metadata": {},
   "outputs": [],
   "source": [
    "from functionOLICutWithShapefile import recortar_e_salvar\n",
    "\n",
    "# Agora você pode usar a função normalmente\n",
    "minha_funcao()\n"
   ]
  },
  {
   "cell_type": "code",
   "execution_count": null,
   "metadata": {},
   "outputs": [],
   "source": [
    "# Lista de caminhos para as suas imagens TIFF\n",
    "caminhos_imagens = [\n",
    "    '/home/barcelos/Desktop/L/LL14/LC08_L1TP_215074_20141229_20200910_02_T1_B2.TIF',\n",
    "    '/home/barcelos/Desktop/L/LL14/LC08_L1TP_215074_20141229_20200910_02_T1_B3.TIF',\n",
    "    '/home/barcelos/Desktop/L/LL14/LC08_L1TP_215074_20141229_20200910_02_T1_B4.TIF',\n",
    "    '/home/barcelos/Desktop/L/LL14/LC08_L1TP_215074_20141229_20200910_02_T1_B5.TIF'\n",
    "]\n",
    "\n",
    "caminho_shapefile = '/home/barcelos/Desktop/AOI/AOI2.shp'\n",
    "\n",
    "# Caminho para o diretório de destino pai\n",
    "diretorio_destino_pai = '/home/barcelos/Desktop/L/LL14/'\n",
    "\n",
    "# Chamar a função com os parâmetros\n",
    "recortar_e_salvar(caminhos_imagens, caminho_shapefile, diretorio_destino_pai)"
   ]
  }
 ],
 "metadata": {
  "language_info": {
   "name": "python"
  }
 },
 "nbformat": 4,
 "nbformat_minor": 2
}
