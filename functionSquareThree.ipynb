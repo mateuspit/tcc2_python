{
 "cells": [
  {
   "cell_type": "code",
   "execution_count": 1,
   "metadata": {},
   "outputs": [],
   "source": [
    "def calcular_vertices_quadrado(lat, lon):\n",
    "    # Distância por grau de latitude na linha do equador (aproximadamente 111.32 km)\n",
    "    dist_por_grau_lat = 111.32\n",
    "\n",
    "    # Distância por grau de longitude na linha do equador (aproximadamente 111.32 km)\n",
    "    dist_por_grau_lon = 111.32\n",
    "\n",
    "    # Tamanho do lado do quadrado em km\n",
    "    tamanho_lado = 3\n",
    "\n",
    "    # Calcular a mudança em graus de latitude e longitude\n",
    "    mudanca_lat = tamanho_lado / dist_por_grau_lat\n",
    "    mudanca_lon = tamanho_lado / dist_por_grau_lon\n",
    "\n",
    "    # Calcular os outros três vértices\n",
    "    ponto_superior_esquerdo = {\"latitude\": lat, \"longitude\": lon}\n",
    "    ponto_superior_direito = {\"latitude\": lat, \"longitude\": lon + mudanca_lon}\n",
    "    ponto_inferior_direito = {\"latitude\": lat - mudanca_lat, \"longitude\": lon + mudanca_lon}\n",
    "    ponto_inferior_esquerdo = {\"latitude\": lat - mudanca_lat, \"longitude\": lon}\n",
    "\n",
    "    return {\n",
    "        \"ponto_superior_esquerdo\": ponto_superior_esquerdo,\n",
    "        \"ponto_superior_direito\": ponto_superior_direito,\n",
    "        \"ponto_inferior_direito\": ponto_inferior_direito,\n",
    "        \"ponto_inferior_esquerdo\": ponto_inferior_esquerdo\n",
    "    }\n"
   ]
  },
  {
   "cell_type": "code",
   "execution_count": 4,
   "metadata": {},
   "outputs": [
    {
     "name": "stdout",
     "output_type": "stream",
     "text": [
      "{'ponto_superior_esquerdo': {'latitude': -19.64194662, 'longitude': -39.79464246}, 'ponto_superior_direito': {'latitude': -19.64194662, 'longitude': -39.76769312475027}, 'ponto_inferior_direito': {'latitude': -19.66889595524973, 'longitude': -39.76769312475027}, 'ponto_inferior_esquerdo': {'latitude': -19.66889595524973, 'longitude': -39.79464246}}\n"
     ]
    }
   ],
   "source": [
    "# Exemplo de uso:\n",
    "# ponto_inicial = {\"latitude\": -19.67078487, \"longitude\": -39.80661554}\n",
    "ponto_inicial = {\"latitude\": -19.64194662, \"longitude\": -39.79464246}\n",
    "vertices = calcular_vertices_quadrado(ponto_inicial[\"latitude\"], ponto_inicial[\"longitude\"])\n",
    "print(vertices)"
   ]
  }
 ],
 "metadata": {
  "kernelspec": {
   "display_name": "Python 3",
   "language": "python",
   "name": "python3"
  },
  "language_info": {
   "codemirror_mode": {
    "name": "ipython",
    "version": 3
   },
   "file_extension": ".py",
   "mimetype": "text/x-python",
   "name": "python",
   "nbconvert_exporter": "python",
   "pygments_lexer": "ipython3",
   "version": "3.10.12"
  }
 },
 "nbformat": 4,
 "nbformat_minor": 2
}
