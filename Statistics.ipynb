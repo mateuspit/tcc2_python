{
 "cells": [
  {
   "cell_type": "code",
   "execution_count": 2,
   "metadata": {},
   "outputs": [
    {
     "name": "stdout",
     "output_type": "stream",
     "text": [
      "Defaulting to user installation because normal site-packages is not writeable\n",
      "Requirement already satisfied: scipy in /usr/lib/python3/dist-packages (1.8.0)\n",
      "Defaulting to user installation because normal site-packages is not writeable\n",
      "Requirement already satisfied: numpy in /home/barcelos/.local/lib/python3.10/site-packages (1.26.2)\n"
     ]
    }
   ],
   "source": [
    "!pip install scipy\n",
    "!pip install numpy"
   ]
  },
  {
   "cell_type": "code",
   "execution_count": 4,
   "metadata": {},
   "outputs": [],
   "source": [
    "import numpy as np\n",
    "from scipy import stats\n",
    "\n",
    "def calcular_estatisticas_indices(ndwi_OLI, ndci_OLI, ndssi_OLI, ndwi_MODIS, ndci_MODIS, ndssi_MODIS):\n",
    "    # Lista de índices\n",
    "    indices = [ndwi_OLI, ndci_OLI, ndssi_OLI, ndwi_MODIS, ndci_MODIS, ndssi_MODIS]\n",
    "\n",
    "    # Lista para armazenar os resultados\n",
    "    resultados = []\n",
    "\n",
    "    for indice in indices:\n",
    "        # Remover valores zero\n",
    "        indice_sem_zero = indice[indice != 0]\n",
    "\n",
    "        # Calcular estatísticas para cada índice\n",
    "        if len(indice_sem_zero) > 0:\n",
    "            media = np.mean(indice_sem_zero)\n",
    "            mediana = np.median(indice_sem_zero)\n",
    "            moda = stats.mode(indice_sem_zero).mode[0]\n",
    "            desvio_padrao = np.std(indice_sem_zero)\n",
    "            variancia = np.var(indice_sem_zero)\n",
    "        else:\n",
    "            # Se todos os valores são zero, definir estatísticas como NaN\n",
    "            media = mediana = moda = desvio_padrao = variancia = np.nan\n",
    "\n",
    "        # Adicionar resultados à lista\n",
    "        resultados.append({\n",
    "            'media': media,\n",
    "            'mediana': mediana,\n",
    "            'moda': moda,\n",
    "            'desvio_padrao': desvio_padrao,\n",
    "            'variancia': variancia\n",
    "        })\n",
    "\n",
    "    return resultados"
   ]
  },
  {
   "cell_type": "code",
   "execution_count": null,
   "metadata": {},
   "outputs": [],
   "source": []
  }
 ],
 "metadata": {
  "kernelspec": {
   "display_name": "Python 3",
   "language": "python",
   "name": "python3"
  },
  "language_info": {
   "codemirror_mode": {
    "name": "ipython",
    "version": 3
   },
   "file_extension": ".py",
   "mimetype": "text/x-python",
   "name": "python",
   "nbconvert_exporter": "python",
   "pygments_lexer": "ipython3",
   "version": "3.10.12"
  }
 },
 "nbformat": 4,
 "nbformat_minor": 2
}
